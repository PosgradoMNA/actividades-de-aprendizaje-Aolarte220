{
  "metadata": {
    "language_info": {
      "codemirror_mode": {
        "name": "python",
        "version": 3
      },
      "file_extension": ".py",
      "mimetype": "text/x-python",
      "name": "python",
      "nbconvert_exporter": "python",
      "pygments_lexer": "ipython3",
      "version": "3.8"
    },
    "kernelspec": {
      "name": "python",
      "display_name": "Pyolite",
      "language": "python"
    }
  },
  "nbformat_minor": 4,
  "nbformat": 4,
  "cells": [
    {
      "cell_type": "code",
      "source": "#Araceli Olarte Ledezma\n#A01686220",
      "metadata": {
        "trusted": true
      },
      "execution_count": 2,
      "outputs": []
    },
    {
      "cell_type": "code",
      "source": "# Write line to file\nexmp2 = 'Example2.txt'\nwith open(exmp2, 'w') as writefile:\n    writefile.write(\"This is line A\")",
      "metadata": {
        "trusted": true
      },
      "execution_count": 5,
      "outputs": []
    },
    {
      "cell_type": "code",
      "source": "#You will use the dataframe df for the following:\nimport pandas as pd\n\ndf=pd.DataFrame({'a':[11,21,31],'b':[21,22,23]})\ndf.head(3)",
      "metadata": {
        "trusted": true
      },
      "execution_count": 23,
      "outputs": [
        {
          "execution_count": 23,
          "output_type": "execute_result",
          "data": {
            "text/plain": "    a   b\n0  11  21\n1  21  22\n2  31  23",
            "text/html": "<div>\n<style scoped>\n    .dataframe tbody tr th:only-of-type {\n        vertical-align: middle;\n    }\n\n    .dataframe tbody tr th {\n        vertical-align: top;\n    }\n\n    .dataframe thead th {\n        text-align: right;\n    }\n</style>\n<table border=\"1\" class=\"dataframe\">\n  <thead>\n    <tr style=\"text-align: right;\">\n      <th></th>\n      <th>a</th>\n      <th>b</th>\n    </tr>\n  </thead>\n  <tbody>\n    <tr>\n      <th>0</th>\n      <td>11</td>\n      <td>21</td>\n    </tr>\n    <tr>\n      <th>1</th>\n      <td>21</td>\n      <td>22</td>\n    </tr>\n    <tr>\n      <th>2</th>\n      <td>31</td>\n      <td>23</td>\n    </tr>\n  </tbody>\n</table>\n</div>"
          },
          "metadata": {}
        }
      ]
    },
    {
      "cell_type": "code",
      "source": "import pandas as banana\ndf=banana.DataFrame({'a':[11,21,31],'b':[21,22,23]})\ndf.head",
      "metadata": {
        "trusted": true
      },
      "execution_count": 17,
      "outputs": [
        {
          "execution_count": 17,
          "output_type": "execute_result",
          "data": {
            "text/plain": "<bound method NDFrame.head of     a   b\n0  11  21\n1  21  22\n2  31  23>"
          },
          "metadata": {}
        }
      ]
    },
    {
      "cell_type": "code",
      "source": "import pandas as banana\ndf=pd.DataFrame({'a':[1,2,1],'b':[1,1,1]})\ndf['a']==1 ",
      "metadata": {
        "trusted": true
      },
      "execution_count": 18,
      "outputs": [
        {
          "execution_count": 18,
          "output_type": "execute_result",
          "data": {
            "text/plain": "0     True\n1    False\n2     True\nName: a, dtype: bool"
          },
          "metadata": {}
        }
      ]
    },
    {
      "cell_type": "code",
      "source": "df.to_csv(\"file.csv\")",
      "metadata": {
        "trusted": true
      },
      "execution_count": 19,
      "outputs": []
    },
    {
      "cell_type": "code",
      "source": "with open(\"Example2.txt\",\"w\") as writefile:\n\nwritefile.write(\"This is line A\\n\")\n\nwritefile.write(\"This is line B\\n\")",
      "metadata": {},
      "execution_count": null,
      "outputs": []
    },
    {
      "cell_type": "code",
      "source": "with open(\"Example1.txt\",\"r\") as file1:\nFileContent=file1.readlines()\nprint(FileContent)",
      "metadata": {},
      "execution_count": null,
      "outputs": []
    },
    {
      "cell_type": "code",
      "source": "with open(\"Example3.txt\",\"a\") as file1:\n\nfile1.write(\"This is line C\\n\")",
      "metadata": {},
      "execution_count": null,
      "outputs": []
    },
    {
      "cell_type": "code",
      "source": "",
      "metadata": {},
      "execution_count": null,
      "outputs": []
    }
  ]
}